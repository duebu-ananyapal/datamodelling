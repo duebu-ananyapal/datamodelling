{
 "cells": [
  {
   "cell_type": "markdown",
   "metadata": {
    "application/vnd.databricks.v1+cell": {
     "cellMetadata": {},
     "inputWidgets": {},
     "nuid": "30fd1eb9-20fc-410d-8cfc-86b788a61f52",
     "showTitle": false,
     "tableResultSettingsMap": {},
     "title": ""
    }
   },
   "source": [
    "**dim Customers**"
   ]
  },
  {
   "cell_type": "code",
   "execution_count": 0,
   "metadata": {
    "application/vnd.databricks.v1+cell": {
     "cellMetadata": {
      "byteLimit": 2048000,
      "implicitDf": true,
      "rowLimit": 10000
     },
     "inputWidgets": {},
     "nuid": "c5f0f1c5-1bbf-4dd9-9c0d-22d0cdf75cbe",
     "showTitle": false,
     "tableResultSettingsMap": {
      "0": {
       "dataGridStateBlob": "{\"version\":1,\"tableState\":{\"columnPinning\":{\"left\":[\"#row_number#\"],\"right\":[]},\"columnSizing\":{},\"columnVisibility\":{}},\"settings\":{\"columns\":{}},\"syncTimestamp\":1757064967614}",
       "filterBlob": null,
       "queryPlanFiltersBlob": null,
       "tableResultIndex": 0
      }
     },
     "title": ""
    }
   },
   "outputs": [],
   "source": [
    "%sql\n",
    "CREATE OR REPLACE TABLE duebu_datamodelling.gold.dimCustomer\n",
    "as\n",
    "select \n",
    "    row_number() over (order by customer_id) as dimCustomerKey,\n",
    "    *\n",
    "from \n",
    "(select \n",
    "    distinct(customer_id),\n",
    "    customer_name,\n",
    "    customer_email\n",
    "from duebu_datamodelling.silver.silver_data \n",
    "order by customer_id)"
   ]
  },
  {
   "cell_type": "markdown",
   "metadata": {
    "application/vnd.databricks.v1+cell": {
     "cellMetadata": {},
     "inputWidgets": {},
     "nuid": "ec7f41fb-6ed3-401e-9b48-2c178988943f",
     "showTitle": false,
     "tableResultSettingsMap": {},
     "title": ""
    }
   },
   "source": [
    "**dim Products**"
   ]
  },
  {
   "cell_type": "code",
   "execution_count": 0,
   "metadata": {
    "application/vnd.databricks.v1+cell": {
     "cellMetadata": {
      "byteLimit": 2048000,
      "implicitDf": true,
      "rowLimit": 10000
     },
     "inputWidgets": {},
     "nuid": "4c10341c-8a15-40e9-b6b7-f78101b38862",
     "showTitle": false,
     "tableResultSettingsMap": {
      "0": {
       "dataGridStateBlob": "{\"version\":1,\"tableState\":{\"columnPinning\":{\"left\":[\"#row_number#\"],\"right\":[]},\"columnSizing\":{},\"columnVisibility\":{}},\"settings\":{\"columns\":{}},\"syncTimestamp\":1757066503916}",
       "filterBlob": null,
       "queryPlanFiltersBlob": null,
       "tableResultIndex": 0
      }
     },
     "title": ""
    }
   },
   "outputs": [],
   "source": [
    "%sql\n",
    "CREATE OR REPLACE TABLE duebu_datamodelling.gold.dimProduct\n",
    "as\n",
    "select row_number() over (order by product_id) as dimProductKey,\n",
    "  *\n",
    "from\n",
    "(select \n",
    " distinct(product_id),\n",
    "  product_name,\n",
    "  product_category\n",
    "from duebu_datamodelling.silver.silver_data\n",
    "order by product_id)\n",
    "\n",
    "\n",
    "\n",
    "\n",
    "\n"
   ]
  },
  {
   "cell_type": "markdown",
   "metadata": {
    "application/vnd.databricks.v1+cell": {
     "cellMetadata": {},
     "inputWidgets": {},
     "nuid": "685bc4d3-41a0-4a1d-9055-956566953825",
     "showTitle": false,
     "tableResultSettingsMap": {},
     "title": ""
    }
   },
   "source": [
    "**dim Payment Type**"
   ]
  },
  {
   "cell_type": "code",
   "execution_count": 0,
   "metadata": {
    "application/vnd.databricks.v1+cell": {
     "cellMetadata": {
      "byteLimit": 2048000,
      "implicitDf": true,
      "rowLimit": 10000
     },
     "inputWidgets": {},
     "nuid": "681ebe47-647c-46dc-a67b-21ee5f66fb32",
     "showTitle": false,
     "tableResultSettingsMap": {},
     "title": ""
    }
   },
   "outputs": [],
   "source": [
    "%sql\n",
    "create or replace table duebu_datamodelling.gold.dimPaymentType\n",
    "as\n",
    "select \n",
    "  row_number() over (order by payment_type) as dimPaymentTypeKey,\n",
    "  payment_type\n",
    "from \n",
    "(select \n",
    "  distinct payment_type\n",
    "from duebu_datamodelling.silver.silver_data)"
   ]
  },
  {
   "cell_type": "markdown",
   "metadata": {
    "application/vnd.databricks.v1+cell": {
     "cellMetadata": {},
     "inputWidgets": {},
     "nuid": "f46c4dec-e08a-4cb9-a79c-f35c118c1af5",
     "showTitle": false,
     "tableResultSettingsMap": {},
     "title": ""
    }
   },
   "source": [
    "**dim Country**"
   ]
  },
  {
   "cell_type": "code",
   "execution_count": 0,
   "metadata": {
    "application/vnd.databricks.v1+cell": {
     "cellMetadata": {
      "byteLimit": 2048000,
      "implicitDf": true,
      "rowLimit": 10000
     },
     "inputWidgets": {},
     "nuid": "9264d9b3-8fcf-4b64-9550-1df9839f91ba",
     "showTitle": false,
     "tableResultSettingsMap": {},
     "title": ""
    }
   },
   "outputs": [],
   "source": [
    "%sql\n",
    "create or replace table duebu_datamodelling.gold.dimCountry\n",
    "as\n",
    "select \n",
    "  row_number() over (order by country) as dimCountryKey,\n",
    "  country\n",
    "from \n",
    "(select \n",
    "  distinct country\n",
    "from duebu_datamodelling.silver.silver_data)"
   ]
  },
  {
   "cell_type": "markdown",
   "metadata": {
    "application/vnd.databricks.v1+cell": {
     "cellMetadata": {},
     "inputWidgets": {},
     "nuid": "f2ff3775-0630-43d5-9ba0-3c5df3117ef2",
     "showTitle": false,
     "tableResultSettingsMap": {},
     "title": ""
    }
   },
   "source": [
    "**dim Sales**"
   ]
  },
  {
   "cell_type": "code",
   "execution_count": 0,
   "metadata": {
    "application/vnd.databricks.v1+cell": {
     "cellMetadata": {
      "byteLimit": 2048000,
      "implicitDf": true,
      "rowLimit": 10000
     },
     "inputWidgets": {},
     "nuid": "81926842-0474-4952-b1eb-1b9a57750254",
     "showTitle": false,
     "tableResultSettingsMap": {
      "0": {
       "dataGridStateBlob": "{\"version\":1,\"tableState\":{\"columnPinning\":{\"left\":[\"#row_number#\"],\"right\":[]},\"columnSizing\":{},\"columnVisibility\":{}},\"settings\":{\"columns\":{}},\"syncTimestamp\":1757068500619}",
       "filterBlob": null,
       "queryPlanFiltersBlob": null,
       "tableResultIndex": 0
      }
     },
     "title": ""
    }
   },
   "outputs": [],
   "source": [
    "%sql\n",
    "create or replace table duebu_datamodelling.gold.dimSales as\n",
    "select \n",
    "  row_number() over (order by order_id) as dimSalesKey,\n",
    "  order_id,\n",
    "  order_date,\n",
    "  customer_id,\n",
    "  customer_name,\n",
    "  customer_email,\n",
    "  product_id,\n",
    "  product_name,\n",
    "  product_category,\n",
    "  payment_type,\n",
    "  country,\n",
    "  last_updated\n",
    "from duebu_datamodelling.silver.silver_data"
   ]
  },
  {
   "cell_type": "markdown",
   "metadata": {
    "application/vnd.databricks.v1+cell": {
     "cellMetadata": {},
     "inputWidgets": {},
     "nuid": "9d9e31b6-b32e-4ccc-b7fa-5f003e3dc3c1",
     "showTitle": false,
     "tableResultSettingsMap": {},
     "title": ""
    }
   },
   "source": [
    "**Fact table**"
   ]
  },
  {
   "cell_type": "code",
   "execution_count": 0,
   "metadata": {
    "application/vnd.databricks.v1+cell": {
     "cellMetadata": {
      "byteLimit": 2048000,
      "implicitDf": true,
      "rowLimit": 10000
     },
     "inputWidgets": {},
     "nuid": "e4642bce-428c-46b7-9b10-4410692ba762",
     "showTitle": false,
     "tableResultSettingsMap": {},
     "title": ""
    }
   },
   "outputs": [],
   "source": [
    "%sql\n",
    "CREATE OR REPLACE TABLE duebu_datamodelling.gold.factSales AS\n",
    "SELECT\n",
    "  F.quantity,\n",
    "  F.unit_price,\n",
    "  S.dimSalesKey,\n",
    "  P.dimProductKey,\n",
    "  DC.dimCustomerKey,\n",
    "  C.dimCountryKey,\n",
    "  PT.dimPaymentTypeKey\n",
    "FROM duebu_datamodelling.silver.silver_data F\n",
    "JOIN duebu_datamodelling.gold.dimSales S \n",
    "  ON F.order_id = S.order_id\n",
    "JOIN duebu_datamodelling.gold.dimProduct P \n",
    "  ON F.product_id = P.product_id\n",
    "JOIN duebu_datamodelling.gold.dimCountry C \n",
    "  ON F.country = C.country\n",
    "JOIN duebu_datamodelling.gold.dimPaymentType PT \n",
    "  ON F.payment_type = PT.payment_type\n",
    "JOIN duebu_datamodelling.gold.dimCustomer DC \n",
    "  ON F.customer_id = DC.customer_id\n"
   ]
  },
  {
   "cell_type": "code",
   "execution_count": 0,
   "metadata": {
    "application/vnd.databricks.v1+cell": {
     "cellMetadata": {
      "byteLimit": 2048000,
      "implicitDf": true,
      "rowLimit": 10000
     },
     "inputWidgets": {},
     "nuid": "8d1fa339-d903-4d83-8d31-02559c6e799c",
     "showTitle": false,
     "tableResultSettingsMap": {},
     "title": ""
    }
   },
   "outputs": [],
   "source": [
    "%sql\n",
    "create or replace table duebu_datamodelling.gold.factSales as\n",
    "select\n",
    "  F.quantity,\n",
    "  F.unit_price,\n",
    "  S.dimSalesKey,\n",
    "  P.dimProductKey,\n",
    "  DC.dimCustomerKey,\n",
    "  C.dimCountryKey,\n",
    "  PT.dimPaymentTypeKey\n",
    "from duebu_datamodelling.silver.silver_data F \n",
    "join duebu_datamodelling.gold.dimSales S on F.order_id = S.order_id\n",
    "join duebu_datamodelling.gold.dimProduct P on F.product_id = P.product_id\n",
    "join duebu_datamodelling.gold.dimCountry C on F.country = C.country\n",
    "join duebu_datamodelling.gold.dimPaymentType PT on F.payment_type = PT.payment_type\n",
    "join duebu_datamodelling.gold.dimCustomer DC on F.customer_id = DC.customer_id\n"
   ]
  },
  {
   "cell_type": "code",
   "execution_count": 0,
   "metadata": {
    "application/vnd.databricks.v1+cell": {
     "cellMetadata": {
      "byteLimit": 2048000,
      "implicitDf": true,
      "rowLimit": 10000
     },
     "inputWidgets": {},
     "nuid": "26c89b88-4bcb-436b-bbb2-85fd7ec44c93",
     "showTitle": false,
     "tableResultSettingsMap": {},
     "title": ""
    }
   },
   "outputs": [],
   "source": [
    "%sql\n",
    "select * from duebu_datamodelling.gold.dimproduct"
   ]
  }
 ],
 "metadata": {
  "application/vnd.databricks.v1+notebook": {
   "computePreferences": null,
   "dashboards": [],
   "environmentMetadata": {
    "base_environment": "",
    "environment_version": "3"
   },
   "inputWidgetPreferences": null,
   "language": "python",
   "notebookMetadata": {
    "mostRecentlyExecutedCommandWithImplicitDF": {
     "commandId": 7203357056062711,
     "dataframes": [
      "_sqldf"
     ]
    },
    "pythonIndentUnit": 4
   },
   "notebookName": "gold",
   "widgets": {}
  },
  "language_info": {
   "name": "python"
  }
 },
 "nbformat": 4,
 "nbformat_minor": 0
}
