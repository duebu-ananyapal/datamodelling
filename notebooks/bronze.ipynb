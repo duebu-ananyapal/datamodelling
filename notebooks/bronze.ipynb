{
 "cells": [
  {
   "cell_type": "code",
   "execution_count": 0,
   "metadata": {
    "application/vnd.databricks.v1+cell": {
     "cellMetadata": {
      "byteLimit": 2048000,
      "rowLimit": 10000
     },
     "inputWidgets": {},
     "nuid": "4a405fd8-403f-4694-8560-05c747a32d34",
     "showTitle": false,
     "tableResultSettingsMap": {},
     "title": ""
    }
   },
   "outputs": [],
   "source": [
    "unprocessed_source_last_load_date = dbutils.notebook.run('./source',60)"
   ]
  },
  {
   "cell_type": "code",
   "execution_count": 0,
   "metadata": {
    "application/vnd.databricks.v1+cell": {
     "cellMetadata": {
      "byteLimit": 2048000,
      "rowLimit": 10000
     },
     "inputWidgets": {},
     "nuid": "6b830fc2-4e17-41a3-826b-7082f516452c",
     "showTitle": false,
     "tableResultSettingsMap": {},
     "title": ""
    }
   },
   "outputs": [],
   "source": [
    "unprocessed_source_last_load_date"
   ]
  },
  {
   "cell_type": "code",
   "execution_count": 0,
   "metadata": {
    "application/vnd.databricks.v1+cell": {
     "cellMetadata": {
      "byteLimit": 2048000,
      "rowLimit": 10000
     },
     "inputWidgets": {},
     "nuid": "e133800e-fb98-40ec-bae0-db300d6716e6",
     "showTitle": false,
     "tableResultSettingsMap": {},
     "title": ""
    }
   },
   "outputs": [],
   "source": [
    "if spark.catalog.tableExists('duebu_datamodelling.bronze.bronze_data'):\n",
    "  bronze_df = spark.sql(f'select max(order_date) as bronze_last_load_date from duebu_datamodelling.bronze.bronze_data')\n",
    "\n",
    "  processed_last_load_date = str(bronze_df.collect()[0]['bronze_last_load_date'])\n",
    "else:\n",
    "  pass"
   ]
  },
  {
   "cell_type": "code",
   "execution_count": 0,
   "metadata": {
    "application/vnd.databricks.v1+cell": {
     "cellMetadata": {
      "byteLimit": 2048000,
      "rowLimit": 10000
     },
     "inputWidgets": {},
     "nuid": "ad59b4fe-38e6-45e3-ac4c-5d9f7915763b",
     "showTitle": false,
     "tableResultSettingsMap": {},
     "title": ""
    }
   },
   "outputs": [],
   "source": [
    "processed_last_load_date"
   ]
  },
  {
   "cell_type": "code",
   "execution_count": 0,
   "metadata": {
    "application/vnd.databricks.v1+cell": {
     "cellMetadata": {
      "byteLimit": 2048000,
      "implicitDf": true,
      "rowLimit": 10000
     },
     "inputWidgets": {},
     "nuid": "8e48188f-321b-463f-a954-c70cabcbdb09",
     "showTitle": false,
     "tableResultSettingsMap": {},
     "title": ""
    }
   },
   "outputs": [],
   "source": [
    "# Enable schema evolution\n",
    "spark.conf.set(\"spark.databricks.delta.schema.autoMerge.enabled\", \"true\")\n",
    "\n",
    "if not spark.catalog.tableExists('duebu_datamodelling.bronze.bronze_data'):\n",
    "    processed_last_load_date = '1900-01-01'\n",
    "    spark.sql('CREATE TABLE IF NOT EXISTS duebu_datamodelling.bronze.bronze_data')\n",
    "    spark.sql(f'''\n",
    "    INSERT INTO duebu_datamodelling.bronze.bronze_data\n",
    "    SELECT * FROM duebu_datamodelling.bronze.source_data \n",
    "    WHERE last_updated > '{processed_last_load_date}' \n",
    "    AND last_updated <= '{unprocessed_source_last_load_date}'\n",
    "    ''')\n",
    "else:\n",
    "    spark.sql(f'''\n",
    "    INSERT INTO duebu_datamodelling.bronze.bronze_data\n",
    "    SELECT * FROM duebu_datamodelling.bronze.source_data \n",
    "    WHERE last_updated > '{processed_last_load_date}' \n",
    "    AND last_updated <= '{unprocessed_source_last_load_date}'\n",
    "    ''')\n",
    "\n"
   ]
  },
  {
   "cell_type": "code",
   "execution_count": 0,
   "metadata": {
    "application/vnd.databricks.v1+cell": {
     "cellMetadata": {
      "byteLimit": 2048000,
      "implicitDf": true,
      "rowLimit": 10000
     },
     "inputWidgets": {},
     "nuid": "70d2f516-f9ba-4ff0-adae-8358350e8f17",
     "showTitle": false,
     "tableResultSettingsMap": {},
     "title": ""
    }
   },
   "outputs": [],
   "source": [
    "%sql\n",
    "select max(order_date) ,count(*),max(order_id)\n",
    "from duebu_datamodelling.bronze.bronze_data"
   ]
  },
  {
   "cell_type": "code",
   "execution_count": 0,
   "metadata": {
    "application/vnd.databricks.v1+cell": {
     "cellMetadata": {
      "byteLimit": 2048000,
      "implicitDf": true,
      "rowLimit": 10000
     },
     "inputWidgets": {},
     "nuid": "b8a5477c-8751-494d-9b11-89341adc8cf1",
     "showTitle": false,
     "tableResultSettingsMap": {},
     "title": ""
    }
   },
   "outputs": [],
   "source": [
    "%sql\n",
    "select count(*) from duebu_datamodelling.bronze.bronze_data"
   ]
  }
 ],
 "metadata": {
  "application/vnd.databricks.v1+notebook": {
   "computePreferences": {
    "hardware": {
     "accelerator": null,
     "gpuPoolId": null,
     "memory": null
    }
   },
   "dashboards": [],
   "environmentMetadata": {
    "base_environment": "",
    "environment_version": "3"
   },
   "inputWidgetPreferences": null,
   "language": "python",
   "notebookMetadata": {
    "mostRecentlyExecutedCommandWithImplicitDF": {
     "commandId": 8661838482211247,
     "dataframes": [
      "_sqldf"
     ]
    },
    "pythonIndentUnit": 4
   },
   "notebookName": "bronze",
   "widgets": {}
  },
  "language_info": {
   "name": "python"
  }
 },
 "nbformat": 4,
 "nbformat_minor": 0
}
