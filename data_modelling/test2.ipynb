{
 "cells": [
  {
   "cell_type": "code",
   "execution_count": 0,
   "metadata": {
    "application/vnd.databricks.v1+cell": {
     "cellMetadata": {
      "byteLimit": 2048000,
      "rowLimit": 10000
     },
     "inputWidgets": {},
     "nuid": "7c222d02-b2ca-4ebe-bd27-84297de4b9e0",
     "showTitle": false,
     "tableResultSettingsMap": {},
     "title": ""
    }
   },
   "outputs": [],
   "source": [
    "df = spark.read \\\n",
    "          .format('csv') \\\n",
    "          .option('inferSchema',True) \\\n",
    "          .option('header',True) \\\n",
    "          .load('/Volumes/duebu_datamodelling/raw/duebu_volume/source_data_july2024.csv')"
   ]
  },
  {
   "cell_type": "code",
   "execution_count": 0,
   "metadata": {
    "application/vnd.databricks.v1+cell": {
     "cellMetadata": {
      "byteLimit": 2048000,
      "rowLimit": 10000
     },
     "inputWidgets": {},
     "nuid": "c678209b-da0e-41b2-88f0-6b1f99dc96f5",
     "showTitle": false,
     "tableResultSettingsMap": {},
     "title": ""
    }
   },
   "outputs": [],
   "source": [
    "df =df.sort(\"customer_id\") \\\n",
    "      .dropDuplicates(['customer_email'])\n",
    "display(df)"
   ]
  },
  {
   "cell_type": "code",
   "execution_count": 0,
   "metadata": {
    "application/vnd.databricks.v1+cell": {
     "cellMetadata": {
      "byteLimit": 2048000,
      "rowLimit": 10000
     },
     "inputWidgets": {},
     "nuid": "eb0dcfbd-1d80-4e8e-83fa-2799dea087b0",
     "showTitle": false,
     "tableResultSettingsMap": {},
     "title": ""
    }
   },
   "outputs": [],
   "source": [
    "df = df.sort(\"order_id\")"
   ]
  },
  {
   "cell_type": "code",
   "execution_count": 0,
   "metadata": {
    "application/vnd.databricks.v1+cell": {
     "cellMetadata": {
      "byteLimit": 2048000,
      "rowLimit": 10000
     },
     "inputWidgets": {},
     "nuid": "c8cef0c9-582f-4725-a4cc-58082d2e3d94",
     "showTitle": false,
     "tableResultSettingsMap": {},
     "title": ""
    }
   },
   "outputs": [],
   "source": [
    "display(df)"
   ]
  },
  {
   "cell_type": "code",
   "execution_count": 0,
   "metadata": {
    "application/vnd.databricks.v1+cell": {
     "cellMetadata": {
      "byteLimit": 2048000,
      "rowLimit": 10000
     },
     "inputWidgets": {},
     "nuid": "5ab917aa-f8cd-40bd-804e-5904cba16b52",
     "showTitle": false,
     "tableResultSettingsMap": {},
     "title": ""
    }
   },
   "outputs": [],
   "source": [
    "df.createOrReplaceTempView('tv_df')"
   ]
  },
  {
   "cell_type": "code",
   "execution_count": 0,
   "metadata": {
    "application/vnd.databricks.v1+cell": {
     "cellMetadata": {
      "byteLimit": 2048000,
      "implicitDf": true,
      "rowLimit": 10000
     },
     "inputWidgets": {},
     "nuid": "1980253c-0410-45d9-8e74-503f773f28f0",
     "showTitle": false,
     "tableResultSettingsMap": {},
     "title": ""
    }
   },
   "outputs": [],
   "source": [
    "%sql\n",
    "select \n",
    "  count(order_id),\n",
    "  count(distinct order_id)\n",
    "from v_df\n"
   ]
  },
  {
   "cell_type": "code",
   "execution_count": 0,
   "metadata": {
    "application/vnd.databricks.v1+cell": {
     "cellMetadata": {
      "byteLimit": 2048000,
      "implicitDf": true,
      "rowLimit": 10000
     },
     "inputWidgets": {},
     "nuid": "f5ba2fb4-a96e-448f-b3d7-1148d0f086ce",
     "showTitle": false,
     "tableResultSettingsMap": {},
     "title": ""
    }
   },
   "outputs": [],
   "source": [
    "%sql\n",
    "create table if not exists duebu_datamodelling.default.v_df\n",
    "(\n",
    "  id bigint generated always as identity(start with 1 increment by 1),\n",
    "  order_id int,\n",
    "  order_date date,\n",
    "  customer_id int,\n",
    "  customer_name string,\n",
    "  customer_email string,\n",
    "  product_id int,\n",
    "  product_name string,\n",
    "  product_category string,\n",
    "  quantity int,\n",
    "  unit_price double,\n",
    "  payment_type string,\n",
    "  country string,\n",
    "  last_updated date\n",
    ")\n"
   ]
  },
  {
   "cell_type": "code",
   "execution_count": 0,
   "metadata": {
    "application/vnd.databricks.v1+cell": {
     "cellMetadata": {
      "byteLimit": 2048000,
      "implicitDf": true,
      "rowLimit": 10000
     },
     "inputWidgets": {},
     "nuid": "582b7922-0c8d-42f8-955c-2ecfc9f923d1",
     "showTitle": false,
     "tableResultSettingsMap": {},
     "title": ""
    }
   },
   "outputs": [],
   "source": [
    "%sql\n",
    "insert into duebu_datamodelling.default.v_df\n",
    "(order_id,\n",
    "  order_date,\n",
    "  customer_id,\n",
    "  customer_name,\n",
    "  customer_email,\n",
    "  product_id,\n",
    "  product_name,\n",
    "  product_category,\n",
    "  quantity,\n",
    "  unit_price,\n",
    "  payment_type,\n",
    "  country,\n",
    "  last_updated)\n",
    "select \n",
    "  order_id,\n",
    "  order_date,\n",
    "  customer_id,\n",
    "  customer_name,\n",
    "  customer_email,\n",
    "  product_id,\n",
    "  product_name,\n",
    "  product_category,\n",
    "  quantity,\n",
    "  unit_price,\n",
    "  payment_type,\n",
    "  country,\n",
    "  last_updated\n",
    "from v_df"
   ]
  },
  {
   "cell_type": "code",
   "execution_count": 0,
   "metadata": {
    "application/vnd.databricks.v1+cell": {
     "cellMetadata": {
      "byteLimit": 2048000,
      "implicitDf": true,
      "rowLimit": 10000
     },
     "inputWidgets": {},
     "nuid": "18df0978-4a3d-40de-b771-403860b72cd8",
     "showTitle": false,
     "tableResultSettingsMap": {},
     "title": ""
    }
   },
   "outputs": [],
   "source": [
    "%sql\n",
    "select *\n",
    "from duebu_datamodelling.default.v_df where id != order_id\n",
    "order by id\n",
    "limit 1 offset 1"
   ]
  },
  {
   "cell_type": "code",
   "execution_count": 0,
   "metadata": {
    "application/vnd.databricks.v1+cell": {
     "cellMetadata": {},
     "inputWidgets": {},
     "nuid": "e6a48355-a7eb-48a7-9618-11f518c19c22",
     "showTitle": false,
     "tableResultSettingsMap": {},
     "title": ""
    }
   },
   "outputs": [],
   "source": [
    "%sql\n",
    "WITH deduplicated_source AS (\n",
    "    SELECT \n",
    "        order_id,\n",
    "        order_date,\n",
    "        customer_id,\n",
    "        customer_name,\n",
    "        customer_email,\n",
    "        product_id,\n",
    "        product_name,\n",
    "        product_category,\n",
    "        quantity,\n",
    "        unit_price,\n",
    "        payment_type,\n",
    "        country,\n",
    "        last_updated,\n",
    "        ROW_NUMBER() OVER (PARTITION BY order_id ORDER BY last_updated DESC) AS row_num\n",
    "    FROM tv_silver\n",
    ")\n",
    "MERGE INTO duebu_datamodelling.silver.silver_data st\n",
    "USING (SELECT * FROM deduplicated_source WHERE row_num = 1) sv\n",
    "ON st.order_id = sv.order_id\n",
    "WHEN MATCHED THEN \n",
    "    UPDATE SET \n",
    "        st.order_date = sv.order_date,\n",
    "        st.customer_id = sv.customer_id,\n",
    "        st.customer_name = sv.customer_name,\n",
    "        st.customer_email = sv.customer_email,\n",
    "        st.product_id = sv.product_id,\n",
    "        st.product_name = sv.product_name,\n",
    "        st.product_category = sv.product_category,\n",
    "        st.quantity = sv.quantity,\n",
    "        st.unit_price = sv.unit_price,\n",
    "        st.payment_type = sv.payment_type,\n",
    "        st.country = sv.country,\n",
    "        st.last_updated = sv.last_updated\n",
    "WHEN NOT MATCHED THEN \n",
    "    INSERT (\n",
    "        order_id, order_date, customer_id, customer_name, customer_email, \n",
    "        product_id, product_name, product_category, quantity, unit_price, \n",
    "        payment_type, country, last_updated\n",
    "    ) \n",
    "    VALUES (\n",
    "        sv.order_id, sv.order_date, sv.customer_id, sv.customer_name, sv.customer_email, \n",
    "        sv.product_id, sv.product_name, sv.product_category, sv.quantity, sv.unit_price, \n",
    "        sv.payment_type, sv.country, sv.last_updated\n",
    "    )"
   ]
  }
 ],
 "metadata": {
  "application/vnd.databricks.v1+notebook": {
   "computePreferences": null,
   "dashboards": [],
   "environmentMetadata": {
    "base_environment": "",
    "environment_version": "3"
   },
   "inputWidgetPreferences": null,
   "language": "python",
   "notebookMetadata": {
    "mostRecentlyExecutedCommandWithImplicitDF": {
     "commandId": 5269680366343245,
     "dataframes": [
      "_sqldf"
     ]
    },
    "pythonIndentUnit": 4
   },
   "notebookName": "test2",
   "widgets": {}
  },
  "language_info": {
   "name": "python"
  }
 },
 "nbformat": 4,
 "nbformat_minor": 0
}
