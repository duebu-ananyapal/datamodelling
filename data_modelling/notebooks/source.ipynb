{
 "cells": [
  {
   "cell_type": "code",
   "execution_count": 0,
   "metadata": {
    "application/vnd.databricks.v1+cell": {
     "cellMetadata": {
      "byteLimit": 2048000,
      "implicitDf": true,
      "rowLimit": 10000
     },
     "inputWidgets": {},
     "nuid": "61669c76-5cc6-4883-a4b1-1143c2fa8d91",
     "showTitle": false,
     "tableResultSettingsMap": {},
     "title": ""
    }
   },
   "outputs": [],
   "source": [
    "%sql\n",
    "create table if not exists duebu_datamodelling.bronze.source_data (\n",
    "  order_id int primary key,\n",
    "  order_date date,\n",
    "  customer_id int,\n",
    "  customer_name varchar(200),\n",
    "  customer_email varchar(100),\n",
    "  product_id int,\n",
    "  product_name varchar(100),\n",
    "  product_category varchar(50),\n",
    "  quantity int,\n",
    "  unit_price decimal(10,2),\n",
    "  payment_type varchar(50),\n",
    "  country varchar(50),\n",
    "  last_updated date\n",
    ")\n",
    "location 'abfss://databricks@duebu.dfs.core.windows.net/datamodelling/externaltables-metadata'"
   ]
  },
  {
   "cell_type": "code",
   "execution_count": 0,
   "metadata": {
    "application/vnd.databricks.v1+cell": {
     "cellMetadata": {
      "byteLimit": 2048000,
      "implicitDf": true,
      "rowLimit": 10000
     },
     "inputWidgets": {},
     "nuid": "4369469d-f3a3-4308-9dd1-9320763fc7bb",
     "showTitle": false,
     "tableResultSettingsMap": {
      "0": {
       "dataGridStateBlob": "{\"version\":1,\"tableState\":{\"columnPinning\":{\"left\":[\"#row_number#\"],\"right\":[]},\"columnSizing\":{},\"columnVisibility\":{}},\"settings\":{\"columns\":{}},\"syncTimestamp\":1756831009564}",
       "filterBlob": null,
       "queryPlanFiltersBlob": null,
       "tableResultIndex": 0
      }
     },
     "title": ""
    }
   },
   "outputs": [],
   "source": [
    "%sql\n",
    "copy into duebu_datamodelling.bronze.source_data from\n",
    "(select order_id,\n",
    "order_date,\n",
    "customer_id,\n",
    "customer_name,\n",
    "customer_email,\n",
    "product_id,\n",
    "product_name,\n",
    "product_category,\n",
    "quantity,\n",
    "cast(unit_price as decimal(10,2)),\n",
    "payment_type,\n",
    "country,\n",
    "last_updated\n",
    "from 'abfss://databricks@duebu.dfs.core.windows.net/datamodelling/source-data/')\n",
    "FILEFORMAT = CSV\n",
    "FORMAT_OPTIONS ('header' = 'true','inferSchema' = 'true','mergeSchema' = 'true')"
   ]
  },
  {
   "cell_type": "code",
   "execution_count": 0,
   "metadata": {
    "application/vnd.databricks.v1+cell": {
     "cellMetadata": {
      "byteLimit": 2048000,
      "implicitDf": true,
      "rowLimit": 10000
     },
     "inputWidgets": {},
     "nuid": "7ebff8e3-9e45-4930-aae6-1afddf5023cb",
     "showTitle": false,
     "tableResultSettingsMap": {},
     "title": ""
    }
   },
   "outputs": [],
   "source": [
    "%sql\n",
    "select \n",
    "    count(*) as count,\n",
    "    min(order_id) as min_order_id,\n",
    "    max(order_id) as max_order_id\n",
    "\n",
    "from duebu_datamodelling.bronze.source_data"
   ]
  },
  {
   "cell_type": "code",
   "execution_count": 0,
   "metadata": {
    "application/vnd.databricks.v1+cell": {
     "cellMetadata": {
      "byteLimit": 2048000,
      "implicitDf": true,
      "rowLimit": 10000
     },
     "inputWidgets": {},
     "nuid": "d7a52faf-b274-4f55-9616-7358b05d0ae9",
     "showTitle": false,
     "tableResultSettingsMap": {},
     "title": ""
    }
   },
   "outputs": [],
   "source": [
    "\n",
    "result_df = spark.sql(\"\"\"select max(last_updated) as last_load_date \n",
    "from duebu_datamodelling.bronze.source_data\"\"\")"
   ]
  },
  {
   "cell_type": "code",
   "execution_count": 0,
   "metadata": {
    "application/vnd.databricks.v1+cell": {
     "cellMetadata": {
      "byteLimit": 2048000,
      "rowLimit": 10000
     },
     "inputWidgets": {},
     "nuid": "29294c38-8ed0-4cf2-9209-061ea8b51048",
     "showTitle": false,
     "tableResultSettingsMap": {},
     "title": ""
    }
   },
   "outputs": [],
   "source": [
    "last_load_date = result_df.collect()[0]['last_load_date']"
   ]
  },
  {
   "cell_type": "code",
   "execution_count": 0,
   "metadata": {
    "application/vnd.databricks.v1+cell": {
     "cellMetadata": {
      "byteLimit": 2048000,
      "rowLimit": 10000
     },
     "inputWidgets": {},
     "nuid": "a4726537-fb37-46a6-b32a-90de9f439b10",
     "showTitle": false,
     "tableResultSettingsMap": {},
     "title": ""
    }
   },
   "outputs": [],
   "source": [
    "dbutils.notebook.exit(str(last_load_date))"
   ]
  },
  {
   "cell_type": "code",
   "execution_count": 0,
   "metadata": {
    "application/vnd.databricks.v1+cell": {
     "cellMetadata": {
      "byteLimit": 2048000,
      "implicitDf": true,
      "rowLimit": 10000
     },
     "inputWidgets": {},
     "nuid": "d3525265-3e7b-46be-a03b-fbe44fa829bd",
     "showTitle": false,
     "tableResultSettingsMap": {},
     "title": ""
    }
   },
   "outputs": [],
   "source": [
    "%sql\n",
    "select count(*) from duebu_datamodelling.bronze.source_data "
   ]
  }
 ],
 "metadata": {
  "application/vnd.databricks.v1+notebook": {
   "computePreferences": null,
   "dashboards": [],
   "environmentMetadata": {
    "base_environment": "",
    "environment_version": "3"
   },
   "inputWidgetPreferences": null,
   "language": "python",
   "notebookMetadata": {
    "mostRecentlyExecutedCommandWithImplicitDF": {
     "commandId": 7482556202936679,
     "dataframes": [
      "_sqldf"
     ]
    },
    "pythonIndentUnit": 4
   },
   "notebookName": "source",
   "widgets": {}
  },
  "language_info": {
   "name": "python"
  }
 },
 "nbformat": 4,
 "nbformat_minor": 0
}
