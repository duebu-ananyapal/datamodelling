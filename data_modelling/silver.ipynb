{
 "cells": [
  {
   "cell_type": "code",
   "execution_count": 0,
   "metadata": {
    "application/vnd.databricks.v1+cell": {
     "cellMetadata": {
      "byteLimit": 2048000,
      "implicitDf": true,
      "rowLimit": 10000
     },
     "inputWidgets": {},
     "nuid": "b8857507-01e4-4ae6-a60e-eaf16fc7952c",
     "showTitle": false,
     "tableResultSettingsMap": {},
     "title": ""
    }
   },
   "outputs": [],
   "source": [
    "%sql\n",
    "create table if not exists duebu_datamodelling.silver.silver_data (\n",
    "  order_id int primary key,\n",
    "  order_date date,\n",
    "  customer_id int,\n",
    "  customer_name varchar(200),\n",
    "  customer_email varchar(100),\n",
    "  product_id int,\n",
    "  product_name varchar(100),\n",
    "  product_category varchar(50),\n",
    "  quantity int,\n",
    "  unit_price decimal(10,2),\n",
    "  payment_type varchar(50),\n",
    "  country varchar(50),\n",
    "  last_updated date\n",
    ")"
   ]
  },
  {
   "cell_type": "code",
   "execution_count": 0,
   "metadata": {
    "application/vnd.databricks.v1+cell": {
     "cellMetadata": {
      "byteLimit": 2048000,
      "implicitDf": true,
      "rowLimit": 10000
     },
     "inputWidgets": {},
     "nuid": "7eaf1db9-c293-4620-b289-bd2b77704ad6",
     "showTitle": false,
     "tableResultSettingsMap": {},
     "title": ""
    }
   },
   "outputs": [],
   "source": [
    "%sql\n",
    "create or replace view tv_silver as\n",
    "select * from duebu_datamodelling.bronze.bronze_data\n",
    "order by customer_id"
   ]
  },
  {
   "cell_type": "code",
   "execution_count": 0,
   "metadata": {
    "application/vnd.databricks.v1+cell": {
     "cellMetadata": {
      "byteLimit": 2048000,
      "implicitDf": true,
      "rowLimit": 10000
     },
     "inputWidgets": {},
     "nuid": "81800b11-d3fd-419e-bee1-cd8ce542b121",
     "showTitle": false,
     "tableResultSettingsMap": {},
     "title": ""
    }
   },
   "outputs": [],
   "source": [
    "%sql\n",
    "WITH deduplicated_source AS (\n",
    "    SELECT \n",
    "        *,\n",
    "        ROW_NUMBER() OVER (PARTITION BY customer_id ORDER BY last_updated DESC) AS row_num\n",
    "    FROM tv_silver\n",
    "    \n",
    ")\n",
    "MERGE INTO duebu_datamodelling.silver.silver_data st\n",
    "USING (select * from deduplicated_source where row_num = 1) sv\n",
    "ON st.customer_id = sv.customer_id\n",
    "WHEN MATCHED THEN \n",
    "    UPDATE SET \n",
    "        st.customer_id = sv.customer_id,\n",
    "        st.customer_name = sv.customer_name,\n",
    "        st.customer_email = sv.customer_email,\n",
    "        st.country = sv.country,\n",
    "        st.last_updated = sv.last_updated\n"
   ]
  },
  {
   "cell_type": "code",
   "execution_count": 0,
   "metadata": {
    "application/vnd.databricks.v1+cell": {
     "cellMetadata": {
      "byteLimit": 2048000,
      "implicitDf": true,
      "rowLimit": 10000
     },
     "inputWidgets": {},
     "nuid": "0ced45bb-48b5-42e1-aa13-41bcc9503352",
     "showTitle": false,
     "tableResultSettingsMap": {},
     "title": ""
    }
   },
   "outputs": [],
   "source": [
    "%sql\n",
    "WITH deduplicated_source AS (\n",
    "    SELECT \n",
    "        *,\n",
    "        ROW_NUMBER() OVER (PARTITION BY order_id ORDER BY last_updated DESC) AS row_num\n",
    "    FROM tv_silver\n",
    ")\n",
    "MERGE INTO duebu_datamodelling.silver.silver_data st\n",
    "USING (SELECT * FROM deduplicated_source WHERE row_num = 1) sv\n",
    "ON st.order_id = sv.order_id\n",
    "WHEN MATCHED THEN \n",
    "    UPDATE SET \n",
    "        st.order_id = sv.order_id,\n",
    "        st.order_date = sv.order_date,\n",
    "        st.product_id = sv.product_id,\n",
    "        st.product_name = sv.product_name,\n",
    "        st.product_category = sv.product_category,\n",
    "        st.quantity = sv.quantity,\n",
    "        st.unit_price = sv.unit_price,\n",
    "        st.payment_type = sv.payment_type,\n",
    "        st.last_updated = sv.last_updated\n",
    "WHEN NOT MATCHED THEN \n",
    "    INSERT (\n",
    "        order_id, order_date, customer_id, customer_name, customer_email, \n",
    "        product_id, product_name, product_category, quantity, unit_price, \n",
    "        payment_type, country, last_updated\n",
    "    ) \n",
    "    VALUES (\n",
    "        sv.order_id, sv.order_date, sv.customer_id, sv.customer_name, sv.customer_email, \n",
    "        sv.product_id, sv.product_name, sv.product_category, sv.quantity, sv.unit_price, \n",
    "        sv.payment_type, sv.country, sv.last_updated\n",
    "    )"
   ]
  },
  {
   "cell_type": "code",
   "execution_count": 0,
   "metadata": {
    "application/vnd.databricks.v1+cell": {
     "cellMetadata": {
      "byteLimit": 2048000,
      "implicitDf": true,
      "rowLimit": 10000
     },
     "inputWidgets": {},
     "nuid": "c6bd6055-d14e-4c5b-b3ed-280df98d22fc",
     "showTitle": false,
     "tableResultSettingsMap": {},
     "title": ""
    }
   },
   "outputs": [],
   "source": [
    "%sql\n",
    "select max(order_date) ,count(*)\n",
    "from duebu_datamodelling.silver.silver_data"
   ]
  },
  {
   "cell_type": "code",
   "execution_count": 0,
   "metadata": {
    "application/vnd.databricks.v1+cell": {
     "cellMetadata": {
      "byteLimit": 2048000,
      "implicitDf": true,
      "rowLimit": 10000
     },
     "inputWidgets": {},
     "nuid": "336fbbcb-d369-46d3-aba5-7441dd116a11",
     "showTitle": false,
     "tableResultSettingsMap": {},
     "title": ""
    }
   },
   "outputs": [],
   "source": [
    "%sql\n",
    "select * from duebu_datamodelling.silver.silver_data where order_id=10102"
   ]
  },
  {
   "cell_type": "code",
   "execution_count": 0,
   "metadata": {
    "application/vnd.databricks.v1+cell": {
     "cellMetadata": {},
     "inputWidgets": {},
     "nuid": "cdb124ba-e9e8-4bc7-b42d-0c12721b9340",
     "showTitle": false,
     "tableResultSettingsMap": {},
     "title": ""
    }
   },
   "outputs": [],
   "source": [
    "%sql\n",
    "CREATE FUNCTION ssn_mask(ssn STRING)\n",
    "  RETURN CASE WHEN is_account_group_member('HumanResourceDept') THEN ssn ELSE '***-**-****' END;\n",
    "\n",
    "ALTER TABLE <table_name> ALTER COLUMN <col_name> SET MASK <mask_func_name> USING COLUMNS <additional_columns>;"
   ]
  },
  {
   "cell_type": "code",
   "execution_count": 0,
   "metadata": {
    "application/vnd.databricks.v1+cell": {
     "cellMetadata": {
      "byteLimit": 2048000,
      "implicitDf": true,
      "rowLimit": 10000
     },
     "inputWidgets": {},
     "nuid": "d544b9ca-00af-4ac7-8bdb-c21c59860131",
     "showTitle": false,
     "tableResultSettingsMap": {},
     "title": ""
    }
   },
   "outputs": [],
   "source": [
    "%sql\n",
    "drop function duebu_datamodelling.silver.data_mask_name;\n",
    "drop function duebu_datamodelling.silver.data_mask_email"
   ]
  },
  {
   "cell_type": "code",
   "execution_count": 0,
   "metadata": {
    "application/vnd.databricks.v1+cell": {
     "cellMetadata": {
      "byteLimit": 2048000,
      "implicitDf": true,
      "rowLimit": 10000
     },
     "inputWidgets": {},
     "nuid": "6a3755df-359a-4d09-9867-6d3b2eabd10b",
     "showTitle": false,
     "tableResultSettingsMap": {},
     "title": ""
    }
   },
   "outputs": [],
   "source": [
    "%sql\n",
    "create or replace function duebu_datamodelling.silver.data_mask_name(p_customer_name string)\n",
    "    return case when is_account_group_member('data_mask') then p_customer_name else '***** ******' \n",
    "end;\n",
    "\n",
    "create or replace function duebu_datamodelling.silver.data_mask_email(p_customer_email string)\n",
    "    return case when is_account_group_member('data_mask') then p_customer_email else '*****@****.***' \n",
    "end;\n"
   ]
  },
  {
   "cell_type": "code",
   "execution_count": 0,
   "metadata": {
    "application/vnd.databricks.v1+cell": {
     "cellMetadata": {
      "byteLimit": 2048000,
      "implicitDf": true,
      "rowLimit": 10000
     },
     "inputWidgets": {},
     "nuid": "e8c61f48-af16-4fa6-9078-4f19b2b28c59",
     "showTitle": false,
     "tableResultSettingsMap": {},
     "title": ""
    }
   },
   "outputs": [],
   "source": [
    "%sql\n",
    "alter table duebu_datamodelling.silver.silver_data \n",
    "alter column customer_name \n",
    "set mask duebu_datamodelling.silver.data_mask_name"
   ]
  },
  {
   "cell_type": "code",
   "execution_count": 0,
   "metadata": {
    "application/vnd.databricks.v1+cell": {
     "cellMetadata": {
      "byteLimit": 2048000,
      "implicitDf": true,
      "rowLimit": 10000
     },
     "inputWidgets": {},
     "nuid": "bb6b5367-836e-44d3-813f-54e222dd96bb",
     "showTitle": false,
     "tableResultSettingsMap": {},
     "title": ""
    }
   },
   "outputs": [],
   "source": [
    "%sql\n",
    "alter table duebu_datamodelling.silver.silver_data \n",
    "alter column customer_email\n",
    "set mask duebu_datamodelling.silver.data_mask_email"
   ]
  },
  {
   "cell_type": "code",
   "execution_count": 0,
   "metadata": {
    "application/vnd.databricks.v1+cell": {
     "cellMetadata": {
      "byteLimit": 2048000,
      "implicitDf": true,
      "rowLimit": 10000
     },
     "inputWidgets": {},
     "nuid": "16e76402-0669-4eb1-a0ee-c12bb45b0185",
     "showTitle": false,
     "tableResultSettingsMap": {},
     "title": ""
    }
   },
   "outputs": [],
   "source": [
    "%sql\n",
    "select * from duebu_datamodelling.silver.silver_data"
   ]
  }
 ],
 "metadata": {
  "application/vnd.databricks.v1+notebook": {
   "computePreferences": {
    "hardware": {
     "accelerator": null,
     "gpuPoolId": null,
     "memory": null
    }
   },
   "dashboards": [],
   "environmentMetadata": {
    "base_environment": "",
    "environment_version": "3"
   },
   "inputWidgetPreferences": null,
   "language": "python",
   "notebookMetadata": {
    "mostRecentlyExecutedCommandWithImplicitDF": {
     "commandId": 7967170722676855,
     "dataframes": [
      "_sqldf"
     ]
    },
    "pythonIndentUnit": 4
   },
   "notebookName": "silver",
   "widgets": {}
  },
  "language_info": {
   "name": "python"
  }
 },
 "nbformat": 4,
 "nbformat_minor": 0
}
